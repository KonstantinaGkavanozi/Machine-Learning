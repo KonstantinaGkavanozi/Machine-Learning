{
  "cells": [
    {
      "cell_type": "markdown",
      "metadata": {
        "id": "hQ--6Ie6Jzu2"
      },
      "source": [
        "## Εργασία 1 ##\n",
        "\n"
      ]
    },
    {
      "cell_type": "markdown",
      "metadata": {
        "id": "V0HMWniYJzu9"
      },
      "source": [
        "---\n",
        "## Μέρος A: NumPy (1 μονάδα)\n",
        "\n",
        "Η βιβλιοθήκη [**NumPy**](https://numpy.org/) είναι η βασική βιβιλιοθήκη για επιστημονικούς υπολογισμούς σε Python. Παρέχει ένα υψηλής επίδοσης αντικείμενο για την αποθήκευση πολυδιάστατων πινάκων και εργαλεία για επεξεργασίας αυτών των πινάκων.\n",
        "\n",
        "Μπορείτε να συμβουλεύεστε την τεκμηρίωση ([NumPy Doc](https://numpy.org/doc/1.18/user/quickstart.html)) αυτών των βιβλιοθηκών κατά την εκπόνηση της εργασίας.\n",
        "\n",
        "Κατά σύμβαση πάντα φορτώνουμε τη βιβλιοθήκη με τον ακόλουθο τρόπο:"
      ]
    },
    {
      "cell_type": "code",
      "execution_count": null,
      "metadata": {
        "id": "XzbD-nEeJzu9"
      },
      "outputs": [],
      "source": [
        "# Run this cell\n",
        "import numpy as np"
      ]
    },
    {
      "cell_type": "markdown",
      "metadata": {
        "id": "nHpJNJ7YJzu-"
      },
      "source": [
        "**A1**: Ορίστε συνάρτηση που επιστρέφει πίνακα 2 διδαστάσεων με r γραμμές και c στήλες και περιέχει τυχαίες τιμές από 0 έως 1 με τη βοήθεια της συνάρτησης np.random.rand. Ακολουθούν τεστ ορθής λειτουργίας της συνάρτησης."
      ]
    },
    {
      "cell_type": "code",
      "execution_count": null,
      "metadata": {
        "deletable": false,
        "id": "W9_zSRDlJzu-",
        "nbgrader": {
          "cell_type": "code",
          "checksum": "d92c1990a8861a674b06f1d88e60c7db",
          "grade": false,
          "grade_id": "cell-4dd473645ec1eb64",
          "locked": false,
          "schema_version": 3,
          "solution": true,
          "task": false
        }
      },
      "outputs": [],
      "source": [
        "def random_2d_array(r, c):\n",
        "    \"\"\"Επιστρέφει διδιάστατο πίνακα με r γραμμές και c στήλες.\n",
        "\n",
        "    \"\"\"\n",
        "    arr = np.random.rand(r, c)\n",
        "\n",
        "    return arr\n",
        "\n"
      ]
    },
    {
      "cell_type": "code",
      "execution_count": null,
      "metadata": {
        "deletable": false,
        "editable": false,
        "id": "TQ_uQhEtJzu-",
        "nbgrader": {
          "cell_type": "code",
          "checksum": "58c6d24b66e1df195036c8d5d1df487c",
          "grade": true,
          "grade_id": "random_2d_array_correct_shape",
          "locked": true,
          "points": 5,
          "schema_version": 3,
          "solution": false,
          "task": false
        }
      },
      "outputs": [],
      "source": [
        "\"\"\"Τεστ επιστροφής πίνακα με τις σωστές διαστάσεις\"\"\"\n",
        "assert np.shape(random_2d_array(3, 5)) == (3, 5)\n",
        "assert np.shape(random_2d_array(5, 2)) == (5, 2)"
      ]
    },
    {
      "cell_type": "markdown",
      "metadata": {
        "id": "NjQjsCn8Jzu_"
      },
      "source": [
        "**A2**: Ορίστε συνάρτηση που δέχεται δύο διδιάστατους πίνακες και επιστρέφει το γινόμενο του ανάστροφου του 1ου πίνακα με τον 2ο πίνακα με τη χρήση της numpy. Ακολουθούν τεστ ορθής λειτουργίας της συνάρτησης."
      ]
    },
    {
      "cell_type": "code",
      "execution_count": null,
      "metadata": {
        "deletable": false,
        "id": "-fhFgvQIJzu_",
        "nbgrader": {
          "cell_type": "code",
          "checksum": "4ef0876d963ef6152ae9e8f6e2fdc7a5",
          "grade": false,
          "grade_id": "cell-c697582f03491bb7",
          "locked": false,
          "schema_version": 3,
          "solution": true,
          "task": false
        }
      },
      "outputs": [],
      "source": [
        "def multiply_transpose(a, b):\n",
        "    \"\"\"Επιστρέφει το γινόμενο του ανάστροφου του 1ου πίνακα με τον 2ο πίνακα.\n",
        "\n",
        "    \"\"\"\n",
        "    transposed_a = np.transpose(a)\n",
        "\n",
        "    multiplicated_arr = np.dot(transposed_a, b)\n",
        "\n",
        "    return multiplicated_arr\n",
        "\n"
      ]
    },
    {
      "cell_type": "code",
      "execution_count": null,
      "metadata": {
        "deletable": false,
        "editable": false,
        "id": "wvhG5oWOJzvA",
        "nbgrader": {
          "cell_type": "code",
          "checksum": "c54ef19235f0620cfbf0983e572d5f4e",
          "grade": true,
          "grade_id": "cell-23e086f3e85d8f53",
          "locked": true,
          "points": 5,
          "schema_version": 3,
          "solution": false,
          "task": false
        }
      },
      "outputs": [],
      "source": [
        "\"\"\"Τεστ επιστροφής πίνακα με τις σωστές διαστάσεις\"\"\"\n",
        "a = random_2d_array(3, 5)\n",
        "b = random_2d_array(3, 2)\n",
        "assert np.shape(multiply_transpose(a, b)) == (5, 2)\n",
        "assert np.shape(multiply_transpose(b, a)) == (2, 5)"
      ]
    },
    {
      "cell_type": "markdown",
      "metadata": {
        "id": "r44aGxaOJzvA"
      },
      "source": [
        "## Μέρος Β: Γραμμικά μοντέλα (6 μονάδες) ##\n",
        "\n",
        "Σε αυτό το μέρος της άσκησης θα χτίσουμε ένα μοντέλο γραμμικής παλινδρόμησης από το μηδέν."
      ]
    },
    {
      "cell_type": "markdown",
      "metadata": {
        "id": "ZuJcs2BqJzvA"
      },
      "source": [
        "**B1:** Υλοποιήστε τη σιγμοειδή συνάρτηση $\\sigma(z)= \\dfrac{1}{1 + exp(-z)}$ με τη NumPy. Ακολουθούν τεστ ορθής λειτουργίας της συνάρτησης."
      ]
    },
    {
      "cell_type": "code",
      "execution_count": null,
      "metadata": {
        "deletable": false,
        "id": "H84vaaKFJzvB",
        "nbgrader": {
          "cell_type": "code",
          "checksum": "fc973cf2e7884a507e7eac2cfb3fe1ba",
          "grade": false,
          "grade_id": "cell-c21b32f8218a444e",
          "locked": false,
          "schema_version": 3,
          "solution": true,
          "task": false
        }
      },
      "outputs": [],
      "source": [
        "def sigmoid(z):\n",
        "    \"\"\"Υπολογίζει τη σιγμοειδή συνάρτηση.\"\"\"\n",
        "\n",
        "    sigma = 1 / (1 + np.exp(-z))\n",
        "\n",
        "    return sigma"
      ]
    },
    {
      "cell_type": "code",
      "execution_count": null,
      "metadata": {
        "deletable": false,
        "editable": false,
        "id": "z_KCn63zJzvB",
        "nbgrader": {
          "cell_type": "code",
          "checksum": "4c6d452aad1fba89422cc05702e86672",
          "grade": true,
          "grade_id": "cell-c522a25040bf7202",
          "locked": true,
          "points": 10,
          "schema_version": 3,
          "solution": false,
          "task": false
        }
      },
      "outputs": [],
      "source": [
        "\"\"\"Τεστ ορθού υπολογισμού σιγμοειδούς.\"\"\"\n",
        "assert sigmoid(0) == 0.5\n",
        "assert np.round(sigmoid(7),8) == 0.99908895\n",
        "assert np.round(sigmoid(-1),8) == 0.26894142"
      ]
    },
    {
      "cell_type": "markdown",
      "metadata": {
        "id": "XUNbx0gbJzvB"
      },
      "source": [
        "**B2:** Υλοποιήστε κλάση για τον αλγόριθμο της λογιστικής παλινδρόμησης. Αρχικοποιήστε τις παραμέτρους σε μηδενικές τιμές. Αποθηκεύστε τες στο διάνυσμα στήλη theta. Η συνάρτηση fit πρέπει να δέχεται πίνακα X με τις τιμές των μεταβλητών εισόδου και διάνυσμα στήλη y με τις τιμές της μεταβλητής εξόδου. Η συνάρτηση predict πρέπει να δέχεται πίνακα Χ με τις τιμές των μεταβλητών εισόδου. Ακολουθούν τεστ ορθής λειτουργίας των συναρτήσεων."
      ]
    },
    {
      "cell_type": "code",
      "execution_count": null,
      "metadata": {
        "deletable": false,
        "id": "Gqnnj9q1JzvC",
        "nbgrader": {
          "cell_type": "code",
          "checksum": "0875eb2ff3083c0d5a365dfe1d72f3af",
          "grade": false,
          "grade_id": "cell-9df008253a524001",
          "locked": false,
          "schema_version": 3,
          "solution": true,
          "task": false
        }
      },
      "outputs": [],
      "source": [
        "class MyLogisticRegression:\n",
        "    def __init__(self, num_iterations=2000, learning_rate=0.004):\n",
        "      self.theta = None\n",
        "      self.num_iterations = num_iterations\n",
        "      self.learning_rate = learning_rate\n",
        "\n",
        "    def fit(self, X, y):\n",
        "        #Initializing values to zero\n",
        "        n = X.shape[1]\n",
        "        m = y.shape[0]\n",
        "        self.theta = np.zeros((n+1, 1))\n",
        "        X = np.concatenate((np.ones((m,1)),X),axis=1)\n",
        "\n",
        "        #Using logistic regression for the fit function\n",
        "        # θ = θ - n * (1/m) * X.T @ (σ(Χθ) - y)\n",
        "        for _ in range(self.num_iterations):\n",
        "          z = np.dot(X, self.theta)\n",
        "          predictions = sigmoid(z)\n",
        "          self.theta = self.theta - self.learning_rate * (1/m) * np.dot(X.T, (predictions - y))\n",
        "\n",
        "\n",
        "    def predict(self, X):\n",
        "        #Calculating the probabilities\n",
        "        k = X.shape[0]\n",
        "        X = np.concatenate((np.ones((k,1)), X), axis=1)\n",
        "        z = np.dot(X, self.theta)\n",
        "        probability = sigmoid(z)\n",
        "\n",
        "        prediction = (probability>=0.5).astype(int)\n",
        "\n",
        "        return prediction\n",
        "\n",
        "\n"
      ]
    },
    {
      "cell_type": "code",
      "execution_count": null,
      "metadata": {
        "deletable": false,
        "editable": false,
        "id": "GsQaz8IoJzvC",
        "nbgrader": {
          "cell_type": "code",
          "checksum": "68c608c214ab39f6197a28f8dd2dda0e",
          "grade": true,
          "grade_id": "cell-af8b565ded602dc1",
          "locked": true,
          "points": 25,
          "schema_version": 3,
          "solution": false,
          "task": false
        }
      },
      "outputs": [],
      "source": [
        "\"\"\"Τεστ ορθής λειτουργίας fit\"\"\"\n",
        "from sklearn.datasets import make_blobs\n",
        "\n",
        "# δημιουργία δύο ομάδων από τυχαία σημεία με κέντρο 0,0,0 και 3,3,3 και τυπική απόκλιση 1\n",
        "centers = [[0.0, 0.0, 0.0], [3.0, 3.0, 3.0]]\n",
        "X, y = make_blobs(n_samples=200, centers=centers,\n",
        "                  random_state=47, shuffle=False)\n",
        "y = np.array(y).reshape(-1,1)\n",
        "\n",
        "lr = MyLogisticRegression()\n",
        "lr.fit(X, y)\n",
        "\n",
        "assert np.allclose(lr.theta, np.array([[-1.1772064],[0.5026043],[0.40811666],[0.55685573]]))"
      ]
    },
    {
      "cell_type": "code",
      "execution_count": null,
      "metadata": {
        "deletable": false,
        "editable": false,
        "id": "e1OpDIEwJzvC",
        "nbgrader": {
          "cell_type": "code",
          "checksum": "e81990c6c217da1709ddd0caceeae095",
          "grade": true,
          "grade_id": "cell-e66896ed86d1a7ce",
          "locked": true,
          "points": 25,
          "schema_version": 3,
          "solution": false,
          "task": false
        }
      },
      "outputs": [],
      "source": [
        "\"\"\"Τεστ ορθής λειτουργίας predict\"\"\"\n",
        "from sklearn.datasets import make_blobs\n",
        "\n",
        "# δημιουργία δύο ομάδων από τυχαία σημεία με κέντρο 0,0,0 και 3,3,3 και τυπική απόκλιση 1\n",
        "centers = [[0.0, 0.0, 0.0], [3.0, 3.0, 3.0]]\n",
        "X, y = make_blobs(n_samples=200, centers=centers,\n",
        "                  random_state=47, shuffle=False)\n",
        "y = np.array(y).reshape(-1,1)\n",
        "\n",
        "lr = MyLogisticRegression()\n",
        "lr.fit(X, y)\n",
        "\n",
        "assert np.allclose(lr.predict(X[[0,199],:]), np.array([[0],[1]]))"
      ]
    },
    {
      "cell_type": "markdown",
      "metadata": {
        "id": "P1CxGpEiJzvD"
      },
      "source": [
        "## Μέρος Γ: Ομαλοποίηση (3 μονάδες)\n",
        "\n",
        "**Γ1:** Υλοποιήστε κλάση για τον αλγόριθμο της λογιστικής παλινδρόμησης που να υποστηρίζει και ομαλοποίηση L1 και L2. Αρχικοποιήστε τις παραμέτρους σε μηδενικές τιμές. Αποθηκεύστε τες στο διάνυσμα στήλη theta. Η συνάρτηση fit πρέπει να δέχεται πίνακα X με τις τιμές των μεταβλητών εισόδου και διάνυσμα στήλη y με τις τιμές της μεταβλητής εξόδου. Ακολουθούν τεστ ορθής λειτουργίας."
      ]
    },
    {
      "cell_type": "code",
      "execution_count": null,
      "metadata": {
        "id": "0P2O5TWFd3Cb"
      },
      "outputs": [],
      "source": [
        "class MyLogisticRegression:\n",
        "    def __init__(self, num_iterations=2000, learning_rate=0.004, penalty=\"None\", l=10):\n",
        "        self.theta = None\n",
        "        self.num_iterations = num_iterations\n",
        "        self.learning_rate = learning_rate\n",
        "        self.penalty = penalty\n",
        "        self.l = l\n",
        "\n",
        "    def fit(self, X, y):\n",
        "        #Initializing values to zero\n",
        "        n = X.shape[1]\n",
        "        m = y.shape[0]\n",
        "        self.theta = np.zeros((n+1, 1))\n",
        "        X = np.concatenate((np.ones((m,1)),X),axis=1)\n",
        "\n",
        "        #Setting the alpha\n",
        "        alpha = self.l / m\n",
        "\n",
        "        #Logistic Regression Process\n",
        "        for _ in range(self.num_iterations):\n",
        "          z = np.dot(X, self.theta)\n",
        "          predictions = sigmoid(z)\n",
        "          gradient = (1/m) * np.dot(X.T, (predictions - y))\n",
        "\n",
        "          #Checking if the regularization technique is L1\n",
        "          if self.penalty == \"L1\":\n",
        "            #The partial derivetive is α*sign(θ)\n",
        "            regularization = alpha * np.sign(self.theta[1:])\n",
        "\n",
        "          #Checking if the regularization technique is L2\n",
        "          elif self.penalty == \"L2\":\n",
        "            #The partial derivetive is α*θ\n",
        "            regularization = alpha * self.theta[1:]\n",
        "          else:\n",
        "            #penalty is None\n",
        "            regularization = 0\n",
        "\n",
        "          gradient[1:] = gradient[1:] + regularization\n",
        "          self.theta = self.theta - self.learning_rate * ( gradient)\n",
        "\n",
        "\n",
        "    def predict(self, X):\n",
        "        #Calculating the probabilities\n",
        "        k = X.shape[0]\n",
        "        X = np.concatenate((np.ones((k,1)), X), axis=1)\n",
        "        z = np.dot(X, self.theta)\n",
        "        probability = sigmoid(z)\n",
        "\n",
        "        prediction = (probability>=0.5).astype(int)\n",
        "\n",
        "        return prediction\n"
      ]
    },
    {
      "cell_type": "code",
      "execution_count": null,
      "metadata": {
        "deletable": false,
        "editable": false,
        "id": "tR1Kh2a5JzvD",
        "nbgrader": {
          "cell_type": "code",
          "checksum": "feea6675fae2d5e1cb3acdb4528cc63f",
          "grade": true,
          "grade_id": "cell-7b4a1e422511b0dd",
          "locked": true,
          "points": 15,
          "schema_version": 3,
          "solution": false,
          "task": false
        }
      },
      "outputs": [],
      "source": [
        "\"\"\"Τεστ ορθής λειτουργίας fit L2\"\"\"\n",
        "from sklearn.datasets import make_blobs\n",
        "\n",
        "# δημιουργία δύο ομάδων από τυχαία σημεία με κέντρο 0,0,0 και 3,3,3 και τυπική απόκλιση 1\n",
        "centers = [[0.0, 0.0, 0.0], [3.0, 3.0, 3.0]]\n",
        "X, y = make_blobs(n_samples=200, centers=centers,\n",
        "                  random_state=47, shuffle=False)\n",
        "y = np.array(y).reshape(-1,1)\n",
        "\n",
        "lr = MyLogisticRegression(penalty=\"L2\", l=10)\n",
        "lr.fit(X, y)\n",
        "assert np.allclose(lr.theta, np.array([[-1.148294],[0.46202407],[0.38788976],[0.50990465]]))\n",
        "lr = MyLogisticRegression(penalty=\"L2\", l=100)\n",
        "lr.fit(X, y)\n",
        "assert np.allclose(lr.theta, np.array([[-0.95841014],[0.30961435],[0.29482345],[0.33574242]]))"
      ]
    },
    {
      "cell_type": "code",
      "execution_count": null,
      "metadata": {
        "deletable": false,
        "editable": false,
        "id": "XDZunRK4JzvD",
        "nbgrader": {
          "cell_type": "code",
          "checksum": "335e75a4d82a9d5de16d1940537d3f1b",
          "grade": true,
          "grade_id": "cell-2e2aab6691a11043",
          "locked": true,
          "points": 15,
          "schema_version": 3,
          "solution": false,
          "task": false
        }
      },
      "outputs": [],
      "source": [
        "\"\"\"Τεστ ορθής λειτουργίας fit L1\"\"\"\n",
        "from sklearn.datasets import make_blobs\n",
        "\n",
        "# δημιουργία δύο ομάδων από τυχαία σημεία με κέντρο 0,0,0 και 3,3,3 και τυπική απόκλιση 1\n",
        "centers = [[0.0, 0.0, 0.0], [3.0, 3.0, 3.0]]\n",
        "X, y = make_blobs(n_samples=200, centers=centers,\n",
        "                  random_state=47, shuffle=False)\n",
        "y = np.array(y).reshape(-1,1)\n",
        "\n",
        "lr = MyLogisticRegression(penalty=\"L1\", l=100)\n",
        "lr.fit(X, y)\n",
        "assert np.allclose(lr.theta, np.array([[-0.39128777],[0.07264989],[0.06445718],[0.2047192]]))"
      ]
    }
  ],
  "metadata": {
    "colab": {
      "provenance": []
    },
    "kernelspec": {
      "display_name": "Python 3 (ipykernel)",
      "language": "python",
      "name": "python3"
    },
    "language_info": {
      "codemirror_mode": {
        "name": "ipython",
        "version": 3
      },
      "file_extension": ".py",
      "mimetype": "text/x-python",
      "name": "python",
      "nbconvert_exporter": "python",
      "pygments_lexer": "ipython3",
      "version": "3.10.12"
    }
  },
  "nbformat": 4,
  "nbformat_minor": 0
}
